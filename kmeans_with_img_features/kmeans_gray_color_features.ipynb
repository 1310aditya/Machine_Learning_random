{
 "cells": [
  {
   "cell_type": "markdown",
   "metadata": {},
   "source": [
    "### Note: Set the destinations with images appropriately."
   ]
  },
  {
   "cell_type": "code",
   "execution_count": 1,
   "metadata": {
    "collapsed": true
   },
   "outputs": [],
   "source": [
    "import pandas as pd\n",
    "import numpy as np\n",
    "from sklearn.cluster import KMeans\n",
    "import random\n",
    "from skimage import io\n",
    "import pickle\n",
    "import warnings\n",
    "warnings.filterwarnings(\"ignore\")"
   ]
  },
  {
   "cell_type": "code",
   "execution_count": 2,
   "metadata": {
    "collapsed": true
   },
   "outputs": [],
   "source": [
    "def get_gray_feature_vec(r,c,i):\n",
    "    row_ind_norm = (r-0)/(R-1)\n",
    "    col_ind_norm = (c-0)/(C-1)\n",
    "    gray_lin_norm = (i-min_i)/(max_i-min_i)\n",
    "    return [row_ind_norm, col_ind_norm, gray_lin_norm]\n",
    "\n",
    "def get_color_feature_vec(r,c,i,red,g,b):\n",
    "    row_ind_norm = (r-0)/(R-1)\n",
    "    col_ind_norm = (c-0)/(C-1)\n",
    "    red_lin_norm = (i[0]-red[0])/(red[1]-red[0])\n",
    "    green_lin_norm = (i[1]-g[0])/(g[1]-g[0])\n",
    "    blue_lin_norm = (i[2]-b[0])/(b[1]-b[0])\n",
    "    return [row_ind_norm, col_ind_norm, red_lin_norm, green_lin_norm, blue_lin_norm ]\n",
    "\n",
    "def colors(n):\n",
    "    ret = []\n",
    "    r = int(random.random() * 256)\n",
    "    g = int(random.random() * 256)\n",
    "    b = int(random.random() * 256)\n",
    "    step = 256 / n\n",
    "    for i in range(n):\n",
    "        r += step\n",
    "        g += step\n",
    "        b += step\n",
    "        r = int(r) % 256\n",
    "        g = int(g) % 256\n",
    "        b = int(b) % 256\n",
    "        ret.append([r,g,b]) \n",
    "    return ret\n",
    "\n",
    "def perform_kmeans(num_clusters, gray_data, image, R, C):\n",
    "    kmeans = KMeans(n_clusters=num_clusters, random_state=10)\n",
    "    kmeans.fit(gray_data)\n",
    "    labels = kmeans.predict(gray_data)\n",
    "    get_clustered_image(labels, num_clusters, image, R, C)\n",
    "\n",
    "def get_clustered_image(predicted_labels, n_labels, orig_img, R, C):\n",
    "    color_dict = dict()\n",
    "    all_colors = colors(n_labels)\n",
    "    for i in range(n_labels):\n",
    "        color_dict[i] = all_colors[i]\n",
    "    compressed = []\n",
    "    for label in predicted_labels:\n",
    "        compressed.append(color_dict[label])\n",
    "    clust_image = np.array(compressed).ravel().reshape(R,C,3)\n",
    "    io.imsave(\"{}_{}.png\".format(orig_img, n_labels), clust_image)\n",
    "    print(\"Image saved.\")"
   ]
  },
  {
   "cell_type": "code",
   "execution_count": 3,
   "metadata": {
    "collapsed": true
   },
   "outputs": [],
   "source": [
    "def parse_gray_img(image):\n",
    "    img = io.imread(\"{}.png\".format(image), as_grey=True)    \n",
    "    R = img.shape[0]\n",
    "    C = img.shape[1]\n",
    "    min_i = min(img.ravel())\n",
    "    max_i = max(img.ravel())\n",
    "    \n",
    "    data = pd.DataFrame({\"row_ind_norm\": [], \"col_ind_norm\": [], \"gray_lin_norm\": []})\n",
    "    \n",
    "    try:\n",
    "        data = pickle.load(open('data_ob_{}'.format(image),'rb'))\n",
    "    except:\n",
    "        i = 0\n",
    "        for r, row in enumerate(img):\n",
    "            for c, item in enumerate(row):\n",
    "                data.loc[i] = get_gray_feature_vec(r,c,item)\n",
    "                i += 1\n",
    "        pickle.dump(data, open('data_ob_{}'.format(image),'wb'))\n",
    "    \n",
    "    for cluster in [2,3,4]:\n",
    "        perform_kmeans(cluster, data, image, R, C)"
   ]
  },
  {
   "cell_type": "code",
   "execution_count": 4,
   "metadata": {},
   "outputs": [
    {
     "name": "stdout",
     "output_type": "stream",
     "text": [
      "Image saved.\n",
      "Image saved.\n",
      "Image saved.\n"
     ]
    }
   ],
   "source": [
    "parse_gray_img(\"image1\")"
   ]
  },
  {
   "cell_type": "code",
   "execution_count": 5,
   "metadata": {},
   "outputs": [
    {
     "name": "stdout",
     "output_type": "stream",
     "text": [
      "Image saved.\n",
      "Image saved.\n",
      "Image saved.\n"
     ]
    }
   ],
   "source": [
    "parse_gray_img(\"image2\")"
   ]
  },
  {
   "cell_type": "code",
   "execution_count": 6,
   "metadata": {
    "collapsed": true
   },
   "outputs": [],
   "source": [
    "def parse_color_img(image):\n",
    "    img = io.imread(\"{}.png\".format(image))    \n",
    "    R = img.shape[0]\n",
    "    C = img.shape[1]\n",
    "    min_red = min(img[:,:,0].ravel())\n",
    "    max_red = max(img[:,:,0].ravel())\n",
    "    min_green = min(img[:,:,1].ravel())\n",
    "    max_green = max(img[:,:,1].ravel())\n",
    "    min_blue = min(img[:,:,2].ravel())\n",
    "    max_blue = max(img[:,:,2].ravel())\n",
    "    data = pd.DataFrame({\"row_ind_norm\": [], \"col_ind_norm\": [], \"red_lin_norm\": [], \"green_lin_norm\": [], \"blue_lin_norm\": []})\n",
    "    \n",
    "    try:\n",
    "        data = pickle.load(open('data_ob_{}'.format(image),'rb'))\n",
    "    except:\n",
    "        i = 0\n",
    "        for r, row in enumerate(img):\n",
    "            for c, item in enumerate(row):\n",
    "                data.loc[i] = get_color_feature_vec(r,c,item,(min_red, max_red), (min_green, max_green), (min_blue, max_blue))\n",
    "                i += 1\n",
    "        pickle.dump(data, open('data_ob_{}'.format(image),'wb'))\n",
    "    \n",
    "    for cluster in [10]:\n",
    "        perform_kmeans(cluster, data, image, R, C)"
   ]
  },
  {
   "cell_type": "code",
   "execution_count": 7,
   "metadata": {},
   "outputs": [
    {
     "name": "stdout",
     "output_type": "stream",
     "text": [
      "Image saved.\n"
     ]
    }
   ],
   "source": [
    "parse_color_img(\"image1\")"
   ]
  },
  {
   "cell_type": "code",
   "execution_count": 8,
   "metadata": {},
   "outputs": [
    {
     "name": "stdout",
     "output_type": "stream",
     "text": [
      "Image saved.\n"
     ]
    }
   ],
   "source": [
    "parse_color_img(\"image4\")"
   ]
  }
 ],
 "metadata": {
  "kernelspec": {
   "display_name": "Python 3",
   "language": "python",
   "name": "python3"
  },
  "language_info": {
   "codemirror_mode": {
    "name": "ipython",
    "version": 3
   },
   "file_extension": ".py",
   "mimetype": "text/x-python",
   "name": "python",
   "nbconvert_exporter": "python",
   "pygments_lexer": "ipython3",
   "version": "3.6.6"
  }
 },
 "nbformat": 4,
 "nbformat_minor": 2
}
